{
  "nbformat": 4,
  "nbformat_minor": 0,
  "metadata": {
    "colab": {
      "name": "PyTorch_and_Deeplearning.ipynb",
      "provenance": [],
      "toc_visible": true,
      "collapsed_sections": [],
      "authorship_tag": "ABX9TyPO1UUIz1WCZedKUPraAe7t",
      "include_colab_link": true
    },
    "kernelspec": {
      "name": "python3",
      "display_name": "Python 3"
    },
    "language_info": {
      "name": "python"
    }
  },
  "cells": [
    {
      "cell_type": "markdown",
      "metadata": {
        "id": "view-in-github",
        "colab_type": "text"
      },
      "source": [
        "<a href=\"https://colab.research.google.com/github/neogirlsdiary/Saitan/blob/main/PyTorch_and_Deeplearning.ipynb\" target=\"_parent\"><img src=\"https://colab.research.google.com/assets/colab-badge.svg\" alt=\"Open In Colab\"/></a>"
      ]
    },
    {
      "cell_type": "markdown",
      "source": [
        "# 最短コースでわかる PyTorch＆深層学習プログラミング\n",
        "に倣って自分で書いていくnotebook"
      ],
      "metadata": {
        "id": "nevKlO_58wNd"
      }
    },
    {
      "cell_type": "markdown",
      "source": [
        "## モジュールインポート"
      ],
      "metadata": {
        "id": "lk_IwXq89e92"
      }
    },
    {
      "cell_type": "code",
      "execution_count": null,
      "metadata": {
        "id": "SnetLInd77RH"
      },
      "outputs": [],
      "source": [
        ""
      ]
    }
  ]
}