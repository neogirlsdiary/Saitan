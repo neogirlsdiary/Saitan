{
  "nbformat": 4,
  "nbformat_minor": 0,
  "metadata": {
    "colab": {
      "name": "PyTorch_and_Deeplearning.ipynb",
      "provenance": [],
      "toc_visible": true,
      "collapsed_sections": [],
      "authorship_tag": "ABX9TyNHALrD9Y9vpBUmVkBeoBCs",
      "include_colab_link": true
    },
    "kernelspec": {
      "name": "python3",
      "display_name": "Python 3"
    },
    "language_info": {
      "name": "python"
    }
  },
  "cells": [
    {
      "cell_type": "markdown",
      "metadata": {
        "id": "view-in-github",
        "colab_type": "text"
      },
      "source": [
        "<a href=\"https://colab.research.google.com/github/neogirlsdiary/Saitan/blob/main/PyTorch_and_Deeplearning.ipynb\" target=\"_parent\"><img src=\"https://colab.research.google.com/assets/colab-badge.svg\" alt=\"Open In Colab\"/></a>"
      ]
    },
    {
      "cell_type": "markdown",
      "source": [
        "# 最短コースでわかる PyTorch＆深層学習プログラミング\n",
        "に倣って自分で書いていくnotebook"
      ],
      "metadata": {
        "id": "nevKlO_58wNd"
      }
    },
    {
      "cell_type": "markdown",
      "source": [
        "## NumPy"
      ],
      "metadata": {
        "id": "lk_IwXq89e92"
      }
    },
    {
      "cell_type": "code",
      "execution_count": 2,
      "metadata": {
        "id": "SnetLInd77RH"
      },
      "outputs": [],
      "source": [
        "import numpy as np\n",
        "np.set_printoptions(suppress=True, precision=5)"
      ]
    },
    {
      "cell_type": "markdown",
      "source": [
        "### 数の作成"
      ],
      "metadata": {
        "id": "ikY9rUx444gi"
      }
    },
    {
      "cell_type": "code",
      "source": [
        "n1 = np.array([1,2,3,4,5])\n",
        "print(n1)\n",
        "print(n1.shape)"
      ],
      "metadata": {
        "colab": {
          "base_uri": "https://localhost:8080/"
        },
        "id": "_gGoYet6muZT",
        "outputId": "66bda3de-d320-43ee-8a61-d5bc0fb4aa49"
      },
      "execution_count": null,
      "outputs": [
        {
          "output_type": "stream",
          "name": "stdout",
          "text": [
            "[1 2 3 4 5]\n",
            "(5,)\n"
          ]
        }
      ]
    },
    {
      "cell_type": "code",
      "source": [
        "n2 = np.array([[1,2,3],[4,5,6]])\n",
        "print(n2)\n",
        "print(n2.shape)"
      ],
      "metadata": {
        "colab": {
          "base_uri": "https://localhost:8080/"
        },
        "id": "tJUX5B9vm-Zh",
        "outputId": "79f4b674-8b7e-465c-e561-48b325eb3be1"
      },
      "execution_count": null,
      "outputs": [
        {
          "output_type": "stream",
          "name": "stdout",
          "text": [
            "[[1 2 3]\n",
            " [4 5 6]]\n",
            "(2, 3)\n"
          ]
        }
      ]
    },
    {
      "cell_type": "markdown",
      "source": [
        "shapeは(行, 列)"
      ],
      "metadata": {
        "id": "8_vKIEOtnMvC"
      }
    },
    {
      "cell_type": "code",
      "source": [
        "n3 = np.array([[\n",
        "               [1,11,111],\n",
        "               [2,22,222],\n",
        "               [3,33,333]],\n",
        "              [\n",
        "               [4,44,444],\n",
        "               [5,55,555],\n",
        "               [6,66,666]]])\n",
        "print(n3)\n",
        "print(n3.shape)"
      ],
      "metadata": {
        "colab": {
          "base_uri": "https://localhost:8080/"
        },
        "id": "KccR9hoFnaJT",
        "outputId": "2993aad9-c50e-4746-ddfc-ccd821c98fa2"
      },
      "execution_count": null,
      "outputs": [
        {
          "output_type": "stream",
          "name": "stdout",
          "text": [
            "[[[  1  11 111]\n",
            "  [  2  22 222]\n",
            "  [  3  33 333]]\n",
            "\n",
            " [[  4  44 444]\n",
            "  [  5  55 555]\n",
            "  [  6  66 666]]]\n",
            "(2, 3, 3)\n"
          ]
        }
      ]
    },
    {
      "cell_type": "code",
      "source": [
        "n4 = np.array([\n",
        "               [\n",
        "                [1,2,3],\n",
        "                [4,5,6],\n",
        "                [7,8,9]\n",
        "               ],\n",
        "               [\n",
        "                [11,22,33],\n",
        "                [44,55,66],\n",
        "                [77,88,99]\n",
        "               ],\n",
        "               [\n",
        "                [111,222,333],\n",
        "                [444,555,666],\n",
        "                [777,888,999]\n",
        "               ]\n",
        "])\n",
        "print(n4)\n",
        "print(n4.shape)"
      ],
      "metadata": {
        "id": "ishu6q4HoLJJ",
        "colab": {
          "base_uri": "https://localhost:8080/"
        },
        "outputId": "35db23b0-6db4-426b-a493-ea1cfd41c52e"
      },
      "execution_count": 3,
      "outputs": [
        {
          "output_type": "stream",
          "name": "stdout",
          "text": [
            "[[[  1   2   3]\n",
            "  [  4   5   6]\n",
            "  [  7   8   9]]\n",
            "\n",
            " [[ 11  22  33]\n",
            "  [ 44  55  66]\n",
            "  [ 77  88  99]]\n",
            "\n",
            " [[111 222 333]\n",
            "  [444 555 666]\n",
            "  [777 888 999]]]\n",
            "(3, 3, 3)\n"
          ]
        }
      ]
    },
    {
      "cell_type": "code",
      "source": [
        "# -1から1まで等間隔で10個\n",
        "n6 = np.linspace(-1, 1, 10)\n",
        "print(n6)"
      ],
      "metadata": {
        "colab": {
          "base_uri": "https://localhost:8080/"
        },
        "id": "w_rpfZscza_A",
        "outputId": "a21a1371-d381-4720-a31c-b75e8a41551e"
      },
      "execution_count": 4,
      "outputs": [
        {
          "output_type": "stream",
          "name": "stdout",
          "text": [
            "[-1.      -0.77778 -0.55556 -0.33333 -0.11111  0.11111  0.33333  0.55556\n",
            "  0.77778  1.     ]\n"
          ]
        }
      ]
    },
    {
      "cell_type": "code",
      "source": [
        "# -1から1まで0.2間隔\n",
        "n7 = np.arange(-1,1,0.2)\n",
        "print(n7)"
      ],
      "metadata": {
        "colab": {
          "base_uri": "https://localhost:8080/"
        },
        "id": "zPBQvza5354P",
        "outputId": "bca3123b-e00b-49d6-beba-a90e6f17a544"
      },
      "execution_count": 5,
      "outputs": [
        {
          "output_type": "stream",
          "name": "stdout",
          "text": [
            "[-1.  -0.8 -0.6 -0.4 -0.2 -0.   0.2  0.4  0.6  0.8]\n"
          ]
        }
      ]
    },
    {
      "cell_type": "markdown",
      "source": [
        "### 操作\n"
      ],
      "metadata": {
        "id": "zI55P4_c4wIf"
      }
    },
    {
      "cell_type": "markdown",
      "source": [
        "#### 要素の抽出\n",
        "要素番号は0オリジンであることに注意。<br>\n",
        "また範囲はPython組込みのスライス同様にコロン「:」が使える。"
      ],
      "metadata": {
        "id": "K2AzVnyU6sPN"
      }
    },
    {
      "cell_type": "code",
      "source": [
        "# 3 x 3\n",
        "n8 = np.array([\n",
        "               [1,2,3],\n",
        "               [4,5,6],\n",
        "               [7,8,9]\n",
        "])\n",
        "print(n8)\n",
        "print('-----')\n",
        "# extract row 2, col 3\n",
        "r2c3 = n8[1,2]\n",
        "print(r2c3)\n",
        "print('-----')\n",
        "# row 3, col all\n",
        "row3 = n8[2,:]\n",
        "print(row3)\n",
        "print('-----')\n",
        "# row all, col 2\n",
        "col2 = n8[:,1]\n",
        "print(col2)"
      ],
      "metadata": {
        "colab": {
          "base_uri": "https://localhost:8080/"
        },
        "id": "PWoCdqsQ5t2l",
        "outputId": "4f46812a-b912-478c-9c3e-849c67e9c706"
      },
      "execution_count": 11,
      "outputs": [
        {
          "output_type": "stream",
          "name": "stdout",
          "text": [
            "[[1 2 3]\n",
            " [4 5 6]\n",
            " [7 8 9]]\n",
            "-----\n",
            "6\n",
            "-----\n",
            "[7 8 9]\n",
            "-----\n",
            "[2 5 8]\n"
          ]
        }
      ]
    },
    {
      "cell_type": "markdown",
      "source": [
        "第一引数だけだと行のみ指定となる。またTrue/Falseのリストで抽出行を指定できる。"
      ],
      "metadata": {
        "id": "4wjHuqED80dY"
      }
    },
    {
      "cell_type": "code",
      "source": [
        "# 0行目のみ\n",
        "row1 = n8[0]\n",
        "print(row1)\n",
        "# 0行目と2行目のみ\n",
        "col1 = n8[[True, False, True]]\n",
        "print(col1)"
      ],
      "metadata": {
        "colab": {
          "base_uri": "https://localhost:8080/"
        },
        "id": "rsTZ_kxj6Zvg",
        "outputId": "ad4651f0-1183-4fc7-bd7e-03e29b98d7a7"
      },
      "execution_count": 19,
      "outputs": [
        {
          "output_type": "stream",
          "name": "stdout",
          "text": [
            "[1 2 3]\n",
            "[[1 2 3]\n",
            " [7 8 9]]\n"
          ]
        }
      ]
    },
    {
      "cell_type": "markdown",
      "source": [
        "#### 変形"
      ],
      "metadata": {
        "id": "GYxmTdYc-GFp"
      }
    },
    {
      "cell_type": "code",
      "source": [
        "# 要素数12の1次元配列\n",
        "n9 = np.array(range(12))\n",
        "print(n9)\n",
        "# 3x4行列に変形\n",
        "n9_3x4 = n9.reshape(3,4)\n",
        "print(n9_3x4)"
      ],
      "metadata": {
        "colab": {
          "base_uri": "https://localhost:8080/"
        },
        "id": "nGU2h_gC8zDA",
        "outputId": "45d38f37-9bbd-42ff-99be-7c0905fab004"
      },
      "execution_count": 22,
      "outputs": [
        {
          "output_type": "stream",
          "name": "stdout",
          "text": [
            "[ 0  1  2  3  4  5  6  7  8  9 10 11]\n",
            "[[ 0  1  2  3]\n",
            " [ 4  5  6  7]\n",
            " [ 8  9 10 11]]\n"
          ]
        }
      ]
    },
    {
      "cell_type": "markdown",
      "source": [
        "## Matplotlib"
      ],
      "metadata": {
        "id": "djL1m_cHZELW"
      }
    },
    {
      "cell_type": "markdown",
      "source": [
        "### 初期設定"
      ],
      "metadata": {
        "id": "wtyTqWkkZQZv"
      }
    },
    {
      "cell_type": "code",
      "source": [
        "!pip install japanize-matplotlib | tail -n 1"
      ],
      "metadata": {
        "colab": {
          "base_uri": "https://localhost:8080/"
        },
        "id": "0jG24Jnk-Xsp",
        "outputId": "8dd6781b-3fa5-439f-8cc1-bc1b7fcb672d"
      },
      "execution_count": 23,
      "outputs": [
        {
          "output_type": "stream",
          "name": "stdout",
          "text": [
            "Successfully installed japanize-matplotlib-1.1.3\n"
          ]
        }
      ]
    },
    {
      "cell_type": "code",
      "source": [
        "import matplotlib.pyplot as plt\n",
        "import japanize_matplotlib"
      ],
      "metadata": {
        "id": "BqC-1uCqZbht"
      },
      "execution_count": 24,
      "outputs": []
    },
    {
      "cell_type": "code",
      "source": [
        "plt.rcParams['font.size'] = 14\n",
        "plt.rcParams['figure.figsize'] = (6, 6)\n",
        "plt.rcParams['axes.grid'] = True"
      ],
      "metadata": {
        "id": "gpw3f2eRZlQF"
      },
      "execution_count": 25,
      "outputs": []
    },
    {
      "cell_type": "markdown",
      "source": [
        "### 散布図"
      ],
      "metadata": {
        "id": "nd72jL4ebukx"
      }
    },
    {
      "cell_type": "code",
      "source": [
        "# データ\n",
        "import seaborn as sns\n",
        "df_iris = sns.load_dataset(\"iris\")\n",
        "print(df_iris.head())\n",
        "xs = df_iris['sepal_length'].values\n",
        "ys = df_iris['sepal_width'].values"
      ],
      "metadata": {
        "colab": {
          "base_uri": "https://localhost:8080/"
        },
        "id": "kUCsH2PobzGg",
        "outputId": "b5debae2-53eb-4d0f-a680-8ed80f83638a"
      },
      "execution_count": 26,
      "outputs": [
        {
          "output_type": "stream",
          "name": "stdout",
          "text": [
            "   sepal_length  sepal_width  petal_length  petal_width species\n",
            "0           5.1          3.5           1.4          0.2  setosa\n",
            "1           4.9          3.0           1.4          0.2  setosa\n",
            "2           4.7          3.2           1.3          0.2  setosa\n",
            "3           4.6          3.1           1.5          0.2  setosa\n",
            "4           5.0          3.6           1.4          0.2  setosa\n"
          ]
        }
      ]
    },
    {
      "cell_type": "code",
      "source": [
        "# 散布図出力\n",
        "plt.scatter(xs, ys)\n",
        "plt.show()"
      ],
      "metadata": {
        "colab": {
          "base_uri": "https://localhost:8080/",
          "height": 380
        },
        "id": "GGwKE8UfcY7A",
        "outputId": "578d898f-5ba2-4d7a-c55e-781b824f4fcd"
      },
      "execution_count": 27,
      "outputs": [
        {
          "output_type": "display_data",
          "data": {
            "image/png": "[encoded data removed]",
            "text/plain": [
              "<Figure size 432x432 with 1 Axes>"
            ]
          },
          "metadata": {
            "needs_background": "light"
          }
        }
      ]
    },
    {
      "cell_type": "markdown",
      "source": [
        "## 関数グラフ"
      ],
      "metadata": {
        "id": "YOEf2SQzcmuI"
      }
    },
    {
      "cell_type": "code",
      "source": [
        "# 関数グラフの書き方は\n",
        "# plot()にX軸データと関数オブジェクトを渡す\n",
        "def nijikansuu(x, a, b):\n",
        "  return a * x**2 + b\n",
        "\n",
        "xp = np.linspace(-5, 5, 60)\n",
        "yp1 = nijikansuu(xp, 2, 0)\n",
        "yp2 = nijikansuu(xp, 5, 5)\n",
        "plt.plot(xp, yp1)\n",
        "# 重ね書き\n",
        "plt.plot(xp, yp2)\n",
        "plt.show()"
      ],
      "metadata": {
        "colab": {
          "base_uri": "https://localhost:8080/",
          "height": 377
        },
        "id": "HljLXXjAf7g5",
        "outputId": "57e8c8ec-8c0f-4c29-e4fb-39d482e7e732"
      },
      "execution_count": 30,
      "outputs": [
        {
          "output_type": "display_data",
          "data": {
            "image/png": "[encoded data removed]",
            "text/plain": [
              "<Figure size 432x432 with 1 Axes>"
            ]
          },
          "metadata": {
            "needs_background": "light"
          }
        }
      ]
    },
    {
      "cell_type": "code",
      "source": [
        "def sigmoid(x, a):\n",
        "  return 1/(1 + np.exp(-a*x))\n",
        "\n",
        "x_sig = np.linspace(-4,4)\n",
        "y_sig = sigmoid(x_sig, 1)\n",
        "# 装飾変更\n",
        "plt.plot(x_sig, y_sig, label='シグモイド関数', lw=5, c='r')\n",
        "# 凡例表示\n",
        "plt.legend()\n",
        "# 軸名表示\n",
        "plt.xlabel('X軸')\n",
        "plt.ylabel('Y軸')\n",
        "plt.plot()"
      ],
      "metadata": {
        "id": "D5QHiz9Wf9WA",
        "colab": {
          "base_uri": "https://localhost:8080/",
          "height": 411
        },
        "outputId": "64bb05f5-ac54-4a4a-f55b-c301f9444d17"
      },
      "execution_count": 31,
      "outputs": [
        {
          "output_type": "execute_result",
          "data": {
            "text/plain": [
              "[]"
            ]
          },
          "metadata": {},
          "execution_count": 31
        },
        {
          "output_type": "display_data",
          "data": {
            "image/png": "[encoded data removed]",
            "text/plain": [
              "<Figure size 432x432 with 1 Axes>"
            ]
          },
          "metadata": {
            "needs_background": "light"
          }
        }
      ]
    },
    {
      "cell_type": "code",
      "source": [
        ""
      ],
      "metadata": {
        "id": "MUkhVDRojZVu"
      },
      "execution_count": null,
      "outputs": []
    },
    {
      "cell_type": "code",
      "source": [
        ""
      ],
      "metadata": {
        "id": "Vc3uSVApjXEI"
      },
      "execution_count": null,
      "outputs": []
    }
  ]
}